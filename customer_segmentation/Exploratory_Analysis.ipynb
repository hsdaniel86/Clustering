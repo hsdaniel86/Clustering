{
 "cells": [
  {
   "cell_type": "code",
   "execution_count": null,
   "metadata": {},
   "outputs": [],
   "source": [
    "import pandas as pd\n",
    "import numpy as np\n",
    "import matplotlib.pyplot as plt\n",
    "import seaborn as sns"
   ]
  },
  {
   "cell_type": "code",
   "execution_count": null,
   "metadata": {},
   "outputs": [],
   "source": [
    "%reload_ext watermark\n",
    "%watermark --iversions"
   ]
  },
  {
   "cell_type": "code",
   "execution_count": null,
   "metadata": {},
   "outputs": [],
   "source": [
    "data = pd.read_csv(\"data/marketing_campaign.csv\", sep=\"\\t\")\n",
    "data"
   ]
  },
  {
   "cell_type": "code",
   "execution_count": null,
   "metadata": {},
   "outputs": [],
   "source": [
    "data.dtypes"
   ]
  },
  {
   "cell_type": "code",
   "execution_count": null,
   "metadata": {},
   "outputs": [],
   "source": [
    "data.shape"
   ]
  },
  {
   "cell_type": "code",
   "execution_count": null,
   "metadata": {},
   "outputs": [],
   "source": [
    "data.duplicated().sum()"
   ]
  },
  {
   "cell_type": "code",
   "execution_count": null,
   "metadata": {},
   "outputs": [],
   "source": [
    "data.isna().sum()"
   ]
  },
  {
   "cell_type": "code",
   "execution_count": null,
   "metadata": {},
   "outputs": [],
   "source": [
    "data.dropna(axis=0, inplace= True)\n",
    "data.shape"
   ]
  },
  {
   "cell_type": "code",
   "execution_count": null,
   "metadata": {},
   "outputs": [],
   "source": [
    "data.info()"
   ]
  },
  {
   "cell_type": "code",
   "execution_count": null,
   "metadata": {},
   "outputs": [],
   "source": [
    "data.describe()"
   ]
  },
  {
   "cell_type": "code",
   "execution_count": null,
   "metadata": {},
   "outputs": [],
   "source": [
    "# Checking unique values of variable\n",
    "data.nunique()"
   ]
  },
  {
   "cell_type": "code",
   "execution_count": null,
   "metadata": {},
   "outputs": [],
   "source": [
    "# Removing irrelevant variables\n",
    "data.drop([\"Z_CostContact\", \"Z_Revenue\"], axis=1, inplace= True)"
   ]
  },
  {
   "cell_type": "code",
   "execution_count": null,
   "metadata": {},
   "outputs": [],
   "source": [
    "data.shape"
   ]
  },
  {
   "cell_type": "code",
   "execution_count": null,
   "metadata": {},
   "outputs": [],
   "source": [
    "data.columns"
   ]
  },
  {
   "cell_type": "code",
   "execution_count": null,
   "metadata": {},
   "outputs": [],
   "source": [
    "# Renaming columns\n",
    "data.rename(columns= {'MntWines': 'Wines', 'MntFruits': \"Fruits\", 'MntMeatProducts': 'Meat', \n",
    "                      'MntFishProducts': 'Fish','MntSweetProducts': 'Sweet', 'MntGoldProds': 'Gold',  \n",
    "                      'NumDealsPurchases': 'Deals',  'NumWebPurchases': 'Web', 'NumCatalogPurchases': 'Catalog', \n",
    "                      'NumStorePurchases': 'Store', 'NumWebVisitsMonth': 'Web_visit', 'AcceptedCmp3': 'Offer_3',  \n",
    "                      'AcceptedCmp4': 'Offer_4', 'AcceptedCmp5': 'Offer_5', 'AcceptedCmp1': 'Offer_1', \n",
    "                      'AcceptedCmp2': 'Offer_2'}, inplace= True)\n",
    "data.head(10)"
   ]
  },
  {
   "cell_type": "code",
   "execution_count": null,
   "metadata": {},
   "outputs": [],
   "source": [
    "# Plotting the distribution of amounts spent on products\n",
    "plt.figure(1, figsize=(30, 25))\n",
    "\n",
    "n= 0 \n",
    "\n",
    "var= ['Wines', 'Fruits','Meat', 'Fish', 'Sweet', 'Gold']\n",
    "# loop \n",
    "for i in var:\n",
    "    n += 1\n",
    "    plt.subplot(2, 3, n)\n",
    "    plt.subplots_adjust(hspace= 0.5, wspace= 0.3)\n",
    "    sns.distplot(data[i], bins= 20)\n",
    "    plt.title(\"{} Disribution\" .format(i))\n",
    "    plt.xlabel(i)\n",
    "    plt.ylabel(\"Frequency\")\n",
    "plt.show()    "
   ]
  },
  {
   "cell_type": "code",
   "execution_count": null,
   "metadata": {},
   "outputs": [],
   "source": [
    "plt.figure(1, figsize= (20, 30))\n",
    "\n",
    "n= 0\n",
    "var= ['Web', 'Catalog', 'Store']\n",
    "\n",
    "for i in var:\n",
    "    n +=1\n",
    "    plt.subplot(3, 1, n)\n",
    "    plt.subplots_adjust(hspace= 0.5, wspace=0.2)\n",
    "    sns.countplot(y= data[i])\n",
    "    plt.title(\"Number of purchases made in {}\" .format(i))\n",
    "plt.show()"
   ]
  },
  {
   "cell_type": "code",
   "execution_count": null,
   "metadata": {},
   "outputs": [],
   "source": [
    "data[\"Education_N\"]= data[\"Education\"].map({\"Basic\": 1, \"Graduation\": 2, \"PhD\": 3,\n",
    "                                           \"Master\": 4, \"2n Cycle\": 5})\n",
    "\n",
    "data[\"Marital_Status_N\"]= data[\"Marital_Status\"].map({'Married': 1, 'Toghether': 2, 'Single': 3, \n",
    "                                                     'Divorced': 4, 'Widow': 5, 'Alone': 6, 'Absurd': 7,\n",
    "                                                     'YOLO': 8})\n",
    "data"
   ]
  },
  {
   "cell_type": "code",
   "execution_count": null,
   "metadata": {
    "scrolled": true
   },
   "outputs": [],
   "source": [
    "# Plotting the distribution of amounts spent on products\n",
    "plt.figure(1, figsize=(30, 30))\n",
    "\n",
    "n= 0 \n",
    "\n",
    "var= ['Wines', 'Fruits', 'Meat', 'Fish', 'Sweet', 'Gold']\n",
    "\n",
    "var2= ['Year_Birth', 'Education_N', 'Marital_Status_N', 'Income']\n",
    "# loop \n",
    "for x in var2:\n",
    "    for y in var: \n",
    "        n += 1\n",
    "        plt.subplot(4, 6, n)\n",
    "        plt.subplots_adjust(hspace= 0.2, wspace= 0.2)\n",
    "        sns.regplot(x= x, y= y, data= data)\n",
    "        plt.xlabel(x)\n",
    "        plt.ylabel(y)\n",
    "        plt.title(\"Amount spent with {}, in {}\".format(y, x))\n",
    "plt.show()    "
   ]
  },
  {
   "cell_type": "code",
   "execution_count": null,
   "metadata": {},
   "outputs": [],
   "source": [
    "data.corr()"
   ]
  },
  {
   "cell_type": "code",
   "execution_count": null,
   "metadata": {},
   "outputs": [],
   "source": [
    "plt.figure(1, figsize=(15,10))\n",
    "sns.heatmap(data.corr())\n",
    "plt.show()"
   ]
  },
  {
   "cell_type": "code",
   "execution_count": null,
   "metadata": {},
   "outputs": [],
   "source": []
  }
 ],
 "metadata": {
  "kernelspec": {
   "display_name": "Python 3",
   "language": "python",
   "name": "python3"
  },
  "language_info": {
   "codemirror_mode": {
    "name": "ipython",
    "version": 3
   },
   "file_extension": ".py",
   "mimetype": "text/x-python",
   "name": "python",
   "nbconvert_exporter": "python",
   "pygments_lexer": "ipython3",
   "version": "3.7.6"
  }
 },
 "nbformat": 4,
 "nbformat_minor": 4
}
